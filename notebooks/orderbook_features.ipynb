{
 "cells": [
  {
   "cell_type": "markdown",
   "metadata": {},
   "source": [
    "# Features\n",
    "\n",
    "In this book we make an attempt to create features based on bids and asks in a limit orderbook.\n",
    "We discuss what how the data could be processed such that machine learning models can understand certain patterns and possibly act in favour of execution optimization."
   ]
  },
  {
   "cell_type": "code",
   "execution_count": 1,
   "metadata": {},
   "outputs": [
    {
     "name": "stdout",
     "output_type": "stream",
     "text": [
      "/Volumes/Data/dev/ctc-executioner\n"
     ]
    }
   ],
   "source": [
    "%cd .."
   ]
  },
  {
   "cell_type": "code",
   "execution_count": 2,
   "metadata": {},
   "outputs": [],
   "source": [
    "from orderbook import Orderbook"
   ]
  },
  {
   "cell_type": "code",
   "execution_count": 4,
   "metadata": {},
   "outputs": [
    {
     "data": {
      "image/png": "[encoded data removed]",
      "text/plain": [
       "<matplotlib.figure.Figure at 0x108f75748>"
      ]
     },
     "metadata": {},
     "output_type": "display_data"
    }
   ],
   "source": [
    "orderbook = Orderbook()\n",
    "orderbook.loadFromEvents('ob-1-small.tsv')\n",
    "orderbook.plot()"
   ]
  },
  {
   "cell_type": "markdown",
   "metadata": {},
   "source": [
    "First we draw a random state (index) from the orderbook with which we have enough time remaining to proceed an execution of 120 seconds."
   ]
  },
  {
   "cell_type": "code",
   "execution_count": 5,
   "metadata": {},
   "outputs": [
    {
     "data": {
      "text/plain": [
       "----------ORDERBOOK STATE----------\n",
       "DateTime: 2018-02-22 00:29:56.161000\n",
       "Price: 11548.84499998\n",
       "Buyers: [10382.09826702: 2.6507577799999997, 10382.098267: 0.10951860000000002, 10375.0: 0.00102154, 10373.99: 0.40448772, 10364.31: 1.5102977899999999, 10360.5421125: 0.00105723, 10350.30812994: 0.00048433, 10350.0: 0.04762781, 10349.66: 0.557, 10347.6: 0.557, 10347.0: 1.71272895, 10325.69254486: 0.001, 10319.09994406: 0.828, 10319.09994405: 4.42704732, 10315.08878113: 2.41545983, 10302.71393373: 0.00047993, 10300.0: 1.59545553, 10297.05081026: 0.01010764, 10296.7575: 0.08425419999999999, 10286.825: 0.09848103, 10284.48125: 0.21075618, 10281.13398363: 0.01672194, 10281.06: 1.12, 10272.6639943: 0.00116559, 10271.179: 2.1679, 10260.99999999: 4.0, 10255.1322809: 0.0261802, 10250.0: 5.78221312, 10248.99000001: 0.35144304, 10239.90571194: 0.7771438, 10236.0: 0.53919278, 10225.99999999: 0.00848994, 10221.30067433: 0.00122387, 10219.48498969: 0.00070326, 10200.0: 3.3865180300000004, 10175.01391297: 0.005896800000000001, 10165.08352062: 0.00128506, 10151.3: 0.09451241, 10150.0: 50.39935765, 10131.00000001: 0.56499457, 10125.0: 1.39523548, 10122.0: 1.10751082, 10111.00000001: 0.16607125, 10102.0: 1.03572456, 10101.0: 2.26111685, 10100.0: 58.70894473, 10075.116: 2.1679, 10050.05: 0.007293099999999999, 10050.0: 13.239035199999998, 10041.25: 0.00750076, 10008.0: 1.71536549, 10004.0: 1.0, 10000.1: 0.62247668, 10000.0: 340.06108634, 9990.0: 1.01083696, 9932.5: 0.00796203, 9930.0: 1.02215016, 9920.0: 0.80500245, 9912.900440000001: 0.00072501, 9900.0: 4.11506826, 9875.0: 0.20202532, 9850.0: 2.72887361, 9836.0: 0.4264116, 9823.75: 0.00845268, 9820.0: 0.29464911000000005, 9800.00003: 0.0399, 9800.00000001: 0.23030526, 9800.0: 32.226776369999996, 9798.24615973: 0.00457402, 9797.0: 0.05, 9796.0: 0.02, 9792.0: 0.54004805, 9790.0: 0.58793242, 9789.990002: 0.32297885, 9788.432869499999: 0.87334067, 9788.0: 0.1, 9786.0: 0.1]\n",
       "Sellers: [10432.0: 0.9414823800000001, 10435.0: 0.18502858, 10440.0: 0.06908381, 10442.00000001: 0.6058005799999999, 10450.9: 1.20928996, 10451.0: 0.08033343, 10468.9: 0.03, 10478.0: 0.6933954999999999, 10484.9: 1.0, 10499.69999999: 4.19986931, 10500.0: 10.33336236, 10504.0: 0.19208661, 10505.96344958: 3.51710348, 10505.96344959: 4.922077359999999, 10506.92168408: 2.04471619, 10516.0: 1.4646772099999998, 10523.25: 0.524, 10525.31: 0.524, 10528.0380415: 0.76775152, 10533.23896501: 0.001, 10533.54153572: 0.13, 10538.4: 0.24, 10545.0: 0.1, 10548.0: 0.10712896, 10550.0: 6.19197361, 10557.735: 2.1679, 10557.73588697: 0.00044074, 10560.0: 0.04431027, 10560.93874059: 0.06429247, 10563.0: 0.01578543, 10570.0: 0.34896438, 10598.8251: 0.6, 10599.09960937: 0.98129388, 10600.0: 25.022806720000002, 10609.58243497: 0.002, 10622.0: 0.03, 10633.0: 0.03, 10640.0: 16.572190159999998, 10644.0: 7.31309508, 10650.0: 3.71174711, 10655.0: 0.03, 10666.0: 0.65467235, 10672.0: 0.01032123, 10680.0: 7.3416645, 10693.5848088: 0.00068217, 10700.0: 3.3403550400000004, 10703.03: 1.88425, 10708.10071447: 0.01126319, 10718.0: 1.59033042, 10720.0: 0.09922269, 10730.0: 0.18265720000000002, 10792.0: 0.09999937, 10796.00000009: 0.31346861, 10800.0: 3.015103, 10800.41677178: 0.00739404, 10830.0: 8.589921140000001, 10850.0: 4.42651999, 10875.0: 0.00124, 10950.0: 1.09473496, 10974.0: 0.1683406, 10999.00000001: 0.4, 11000.0: 18.17004122, 11000.41677178: 0.0297562, 11050.0: 0.20983803, 11099.0: 1.45197432, 11125.0: 0.00801376, 11155.0: 2.07941099, 11199.00000001: 0.4, 11200.0: 8.3344114, 11251.12018167: 0.00884286, 11300.0: 4.30428949, 11399.00000001: 0.30066061, 11400.0: 10.27210079, 11500.0: 5.55633443, 11542.0: 1.0, 11545.36760002: 0.01, 11546.69726906: 0.00122922, 11547.9: 0.11043112, 11548.84499998: 0.00438634]\n",
       "Market Vars: {}\n",
       "----------ORDERBOOK STATE----------"
      ]
     },
     "execution_count": 5,
     "metadata": {},
     "output_type": "execute_result"
    }
   ],
   "source": [
    "state, state_index = orderbook.getRandomState(120)\n",
    "state"
   ]
  },
  {
   "cell_type": "markdown",
   "metadata": {},
   "source": [
    "Here the bids and asks in dictionary form."
   ]
  },
  {
   "cell_type": "code",
   "execution_count": 6,
   "metadata": {
    "scrolled": false
   },
   "outputs": [
    {
     "data": {
      "text/plain": [
       "{'asks': {10432.0: 0.9414823800000001,\n",
       "  10435.0: 0.18502858,\n",
       "  10440.0: 0.06908381,\n",
       "  10442.00000001: 0.6058005799999999,\n",
       "  10450.9: 1.20928996,\n",
       "  10451.0: 0.08033343,\n",
       "  10468.9: 0.03,\n",
       "  10478.0: 0.6933954999999999,\n",
       "  10484.9: 1.0,\n",
       "  10499.69999999: 4.19986931,\n",
       "  10500.0: 10.33336236,\n",
       "  10504.0: 0.19208661,\n",
       "  10505.96344958: 3.51710348,\n",
       "  10505.96344959: 4.922077359999999,\n",
       "  10506.92168408: 2.04471619,\n",
       "  10516.0: 1.4646772099999998,\n",
       "  10523.25: 0.524,\n",
       "  10525.31: 0.524,\n",
       "  10528.0380415: 0.76775152,\n",
       "  10533.23896501: 0.001,\n",
       "  10533.54153572: 0.13,\n",
       "  10538.4: 0.24,\n",
       "  10545.0: 0.1,\n",
       "  10548.0: 0.10712896,\n",
       "  10550.0: 6.19197361,\n",
       "  10557.735: 2.1679,\n",
       "  10557.73588697: 0.00044074,\n",
       "  10560.0: 0.04431027,\n",
       "  10560.93874059: 0.06429247,\n",
       "  10563.0: 0.01578543,\n",
       "  10570.0: 0.34896438,\n",
       "  10598.8251: 0.6,\n",
       "  10599.09960937: 0.98129388,\n",
       "  10600.0: 25.022806720000002,\n",
       "  10609.58243497: 0.002,\n",
       "  10622.0: 0.03,\n",
       "  10633.0: 0.03,\n",
       "  10640.0: 16.572190159999998,\n",
       "  10644.0: 7.31309508,\n",
       "  10650.0: 3.71174711,\n",
       "  10655.0: 0.03,\n",
       "  10666.0: 0.65467235,\n",
       "  10672.0: 0.01032123,\n",
       "  10680.0: 7.3416645,\n",
       "  10693.5848088: 0.00068217,\n",
       "  10700.0: 3.3403550400000004,\n",
       "  10703.03: 1.88425,\n",
       "  10708.10071447: 0.01126319,\n",
       "  10718.0: 1.59033042,\n",
       "  10720.0: 0.09922269,\n",
       "  10730.0: 0.18265720000000002,\n",
       "  10792.0: 0.09999937,\n",
       "  10796.00000009: 0.31346861,\n",
       "  10800.0: 3.015103,\n",
       "  10800.41677178: 0.00739404,\n",
       "  10830.0: 8.589921140000001,\n",
       "  10850.0: 4.42651999,\n",
       "  10875.0: 0.00124,\n",
       "  10950.0: 1.09473496,\n",
       "  10974.0: 0.1683406,\n",
       "  10999.00000001: 0.4,\n",
       "  11000.0: 18.17004122,\n",
       "  11000.41677178: 0.0297562,\n",
       "  11050.0: 0.20983803,\n",
       "  11099.0: 1.45197432,\n",
       "  11125.0: 0.00801376,\n",
       "  11155.0: 2.07941099,\n",
       "  11199.00000001: 0.4,\n",
       "  11200.0: 8.3344114,\n",
       "  11251.12018167: 0.00884286,\n",
       "  11300.0: 4.30428949,\n",
       "  11399.00000001: 0.30066061,\n",
       "  11400.0: 10.27210079,\n",
       "  11500.0: 5.55633443,\n",
       "  11542.0: 1.0,\n",
       "  11545.36760002: 0.01,\n",
       "  11546.69726906: 0.00122922,\n",
       "  11547.9: 0.11043112,\n",
       "  11548.84499998: 0.00438634},\n",
       " 'bids': {9786.0: 0.1,\n",
       "  9788.0: 0.1,\n",
       "  9788.432869499999: 0.87334067,\n",
       "  9789.990002: 0.32297885,\n",
       "  9790.0: 0.58793242,\n",
       "  9792.0: 0.54004805,\n",
       "  9796.0: 0.02,\n",
       "  9797.0: 0.05,\n",
       "  9798.24615973: 0.00457402,\n",
       "  9800.0: 32.226776369999996,\n",
       "  9800.00000001: 0.23030526,\n",
       "  9800.00003: 0.0399,\n",
       "  9820.0: 0.29464911000000005,\n",
       "  9823.75: 0.00845268,\n",
       "  9836.0: 0.4264116,\n",
       "  9850.0: 2.72887361,\n",
       "  9875.0: 0.20202532,\n",
       "  9900.0: 4.11506826,\n",
       "  9912.900440000001: 0.00072501,\n",
       "  9920.0: 0.80500245,\n",
       "  9930.0: 1.02215016,\n",
       "  9932.5: 0.00796203,\n",
       "  9990.0: 1.01083696,\n",
       "  10000.0: 340.06108634,\n",
       "  10000.1: 0.62247668,\n",
       "  10004.0: 1.0,\n",
       "  10008.0: 1.71536549,\n",
       "  10041.25: 0.00750076,\n",
       "  10050.0: 13.239035199999998,\n",
       "  10050.05: 0.007293099999999999,\n",
       "  10075.116: 2.1679,\n",
       "  10100.0: 58.70894473,\n",
       "  10101.0: 2.26111685,\n",
       "  10102.0: 1.03572456,\n",
       "  10111.00000001: 0.16607125,\n",
       "  10122.0: 1.10751082,\n",
       "  10125.0: 1.39523548,\n",
       "  10131.00000001: 0.56499457,\n",
       "  10150.0: 50.39935765,\n",
       "  10151.3: 0.09451241,\n",
       "  10165.08352062: 0.00128506,\n",
       "  10175.01391297: 0.005896800000000001,\n",
       "  10200.0: 3.3865180300000004,\n",
       "  10219.48498969: 0.00070326,\n",
       "  10221.30067433: 0.00122387,\n",
       "  10225.99999999: 0.00848994,\n",
       "  10236.0: 0.53919278,\n",
       "  10239.90571194: 0.7771438,\n",
       "  10248.99000001: 0.35144304,\n",
       "  10250.0: 5.78221312,\n",
       "  10255.1322809: 0.0261802,\n",
       "  10260.99999999: 4.0,\n",
       "  10271.179: 2.1679,\n",
       "  10272.6639943: 0.00116559,\n",
       "  10281.06: 1.12,\n",
       "  10281.13398363: 0.01672194,\n",
       "  10284.48125: 0.21075618,\n",
       "  10286.825: 0.09848103,\n",
       "  10296.7575: 0.08425419999999999,\n",
       "  10297.05081026: 0.01010764,\n",
       "  10300.0: 1.59545553,\n",
       "  10302.71393373: 0.00047993,\n",
       "  10315.08878113: 2.41545983,\n",
       "  10319.09994405: 4.42704732,\n",
       "  10319.09994406: 0.828,\n",
       "  10325.69254486: 0.001,\n",
       "  10347.0: 1.71272895,\n",
       "  10347.6: 0.557,\n",
       "  10349.66: 0.557,\n",
       "  10350.0: 0.04762781,\n",
       "  10350.30812994: 0.00048433,\n",
       "  10360.5421125: 0.00105723,\n",
       "  10364.31: 1.5102977899999999,\n",
       "  10373.99: 0.40448772,\n",
       "  10375.0: 0.00102154,\n",
       "  10382.098267: 0.10951860000000002,\n",
       "  10382.09826702: 2.6507577799999997}}"
      ]
     },
     "execution_count": 6,
     "metadata": {},
     "output_type": "execute_result"
    }
   ],
   "source": [
    "d_state = orderbook.getDictState(state_index)\n",
    "d_state"
   ]
  },
  {
   "cell_type": "markdown",
   "metadata": {},
   "source": [
    "# Private Variables\n",
    "\n",
    "Private variables in the context of order execution is a tuple of the remaining time (seconds) and inventory (share size)."
   ]
  },
  {
   "cell_type": "code",
   "execution_count": 7,
   "metadata": {},
   "outputs": [
    {
     "data": {
      "text/plain": [
       "(120, 1.0)"
      ]
     },
     "execution_count": 7,
     "metadata": {},
     "output_type": "execute_result"
    }
   ],
   "source": [
    "(120, 1.0) # 1.0 BTC left to be executed within 120 seconds"
   ]
  },
  {
   "cell_type": "markdown",
   "metadata": {},
   "source": [
    "# Market Variables\n",
    "\n",
    "Market variables contain information derived from the market at the time right before the execution is being placed."
   ]
  },
  {
   "cell_type": "code",
   "execution_count": 8,
   "metadata": {},
   "outputs": [],
   "source": [
    "import numpy as np\n",
    "from collections import OrderedDict\n",
    "import pandas as pd"
   ]
  },
  {
   "cell_type": "code",
   "execution_count": 9,
   "metadata": {},
   "outputs": [],
   "source": [
    "state = orderbook.getDictState(state_index)\n",
    "asks = state['asks']\n",
    "bids = state['bids']\n",
    "bestAsk = min(asks.keys())"
   ]
  },
  {
   "cell_type": "markdown",
   "metadata": {},
   "source": [
    "We now represent the bids and asks as a numpy array in the shape of `(2, levels, count(features))`.\n",
    "In case both features, price and size are enabled, the output is as follows:\n",
    "\n",
    "```\n",
    "[\n",
    "    [\n",
    "        [bid_price  bid_size]\n",
    "        [...        ...     ]\n",
    "    ]\n",
    "    [\n",
    "        [ask_price  ask_size]\n",
    "        [...        ...     ]\n",
    "    ]\n",
    "]\n",
    "```\n",
    "\n",
    "If eiether price or size is choosen only, the output has the shape `(2, levels)` and is as follows:\n",
    "\n",
    "```\n",
    "[\n",
    "    [\n",
    "        bid_price\n",
    "        ...\n",
    "    ]\n",
    "    [\n",
    "        ask_price\n",
    "        ...      \n",
    "    ]\n",
    "]\n",
    "```\n",
    "\n",
    "or respectively:\n",
    "\n",
    "```\n",
    "[\n",
    "    [\n",
    "        bid_size\n",
    "        ...     \n",
    "    ]\n",
    "    [\n",
    "        ask_size\n",
    "        ...     \n",
    "    ]\n",
    "]\n",
    "```"
   ]
  },
  {
   "cell_type": "code",
   "execution_count": 10,
   "metadata": {},
   "outputs": [],
   "source": [
    "def getBidAskFeature(bids, asks, qty=None, price=True, size=True, normalize=False, levels=20):\n",
    "    \"\"\"Creates feature to represent bids and asks.\n",
    "\n",
    "    The prices and sizes of the bids and asks are normalized by the provided\n",
    "    (naturally current) bestAsk and the provided quantity respectively.\n",
    "    \n",
    "    Shape: (2, levels, count(features)), whereas features can be [price, size]\n",
    "    [\n",
    "        [\n",
    "            [bid_price  bid_size]\n",
    "            [...        ...     ]\n",
    "        ]\n",
    "        [\n",
    "            [ask_price  ask_size]\n",
    "            [...        ...     ]\n",
    "        ]\n",
    "    ]\n",
    "      \n",
    "    \"\"\"\n",
    "    assert(price is True or size is True)\n",
    "    \n",
    "    def toArray(d):\n",
    "        s = pd.Series(d, name='size')\n",
    "        s.index.name='price'\n",
    "        s = s.reset_index()\n",
    "        return np.array(s)\n",
    "\n",
    "    def force_levels(a, n=levels):\n",
    "        \"\"\"Shrinks or expands array to n number of records.\"\"\"\n",
    "        gap = (n - a.shape[0])\n",
    "        if gap > 0:\n",
    "            gapfill = np.zeros((gap, 2))\n",
    "            a = np.vstack((a, gapfill))\n",
    "            return a\n",
    "        elif gap <= 0:\n",
    "            return a[:n]\n",
    "\n",
    "    bids = OrderedDict(sorted(bids.items(), reverse=True))\n",
    "    asks = OrderedDict(sorted(asks.items()))\n",
    "    bids = toArray(bids)\n",
    "    asks = toArray(asks)\n",
    "    if normalize is True:\n",
    "        assert(qty is not None)\n",
    "        bestAsk = np.min(asks[:,0])\n",
    "        bids = np.column_stack((bids[:,0] / bestAsk, bids[:,1] / qty))\n",
    "        asks = np.column_stack((asks[:,0] / bestAsk, asks[:,1] / qty))\n",
    "\n",
    "    bidsAsks = np.array([force_levels(bids), force_levels(asks)])    \n",
    "    if price is True and size is True:\n",
    "        return bidsAsks\n",
    "    if price is True:\n",
    "        return bidsAsks[:,:,0]\n",
    "    if size is True:\n",
    "        return bidsAsks[:,:,1]\n"
   ]
  },
  {
   "cell_type": "code",
   "execution_count": 11,
   "metadata": {},
   "outputs": [
    {
     "name": "stdout",
     "output_type": "stream",
     "text": [
      "(2, 10, 2)\n",
      "[[[9.95216475e-01 2.65075778e+00]\n",
      "  [9.95216475e-01 1.09518600e-01]\n",
      "  [9.94536043e-01 1.02154000e-03]\n",
      "  [9.94439225e-01 4.04487720e-01]\n",
      "  [9.93511311e-01 1.51029779e+00]\n",
      "  [9.93150126e-01 1.05723000e-03]\n",
      "  [9.92169108e-01 4.84330000e-04]\n",
      "  [9.92139571e-01 4.76278100e-02]\n",
      "  [9.92106979e-01 5.57000000e-01]\n",
      "  [9.91909509e-01 5.57000000e-01]]\n",
      "\n",
      " [[1.00000000e+00 9.41482380e-01]\n",
      "  [1.00028758e+00 1.85028580e-01]\n",
      "  [1.00076687e+00 6.90838100e-02]\n",
      "  [1.00095859e+00 6.05800580e-01]\n",
      "  [1.00181173e+00 1.20928996e+00]\n",
      "  [1.00182132e+00 8.03334300e-02]\n",
      "  [1.00353719e+00 3.00000000e-02]\n",
      "  [1.00440951e+00 6.93395500e-01]\n",
      "  [1.00507094e+00 1.00000000e+00]\n",
      "  [1.00648965e+00 4.19986931e+00]]]\n"
     ]
    }
   ],
   "source": [
    "feature_ba = getBidAskFeature(d_state['bids'], d_state['asks'], qty=1.0, normalize=True, price=True, size=True, levels = 10)\n",
    "print(feature_ba.shape)\n",
    "print(feature_ba)"
   ]
  },
  {
   "cell_type": "code",
   "execution_count": 12,
   "metadata": {},
   "outputs": [
    {
     "name": "stdout",
     "output_type": "stream",
     "text": [
      "[[0.99521647 0.99521647 0.99453604 0.99443923 0.99351131]\n",
      " [1.         1.00028758 1.00076687 1.00095859 1.00181173]]\n"
     ]
    }
   ],
   "source": [
    "feature_ba = getBidAskFeature(d_state['bids'], d_state['asks'], qty=1.0, normalize=True, price=True, size=False, levels = 5)\n",
    "print(feature_ba)"
   ]
  },
  {
   "cell_type": "markdown",
   "metadata": {},
   "source": [
    "Given the function `getBidAskFeature` with which we can represent the order book state as a numpy array, we now want to combine a certain number of states into one data structure.\n",
    "Hence, a `lookback` is defined which tells how many states in the past (relative to the `state_index`) shall be considered.\n",
    "\n",
    "The output of this funciton"
   ]
  },
  {
   "cell_type": "code",
   "execution_count": 13,
   "metadata": {},
   "outputs": [],
   "source": [
    "def getBidAskFeatures(d, state_index, lookback, qty=None, price=True, size=True, normalize=False, levels=20):\n",
    "    \"\"\" Creates feature to represent bids and asks with a lookback of previous states.\n",
    "    \n",
    "    Shape: (2*lookback, levels, count(features))\n",
    "    \"\"\"\n",
    "    state = d[list(d.keys())[state_index]]\n",
    "    asks = state['asks']\n",
    "    bids = state['bids']\n",
    "    bestAsk = min(asks.keys())\n",
    "    i = 0\n",
    "    while i < lookback:\n",
    "        state_index = state_index - 1\n",
    "        state = d[list(d.keys())[state_index]]\n",
    "        asks = state['asks']\n",
    "        bids = state['bids']\n",
    "        features_next = getBidAskFeature(\n",
    "                            bids=bids, \n",
    "                            asks=asks, \n",
    "                            qty=qty, \n",
    "                            price=price, \n",
    "                            size=size, \n",
    "                            normalize=normalize, \n",
    "                            levels=levels\n",
    "                        )\n",
    "        if i == 0:\n",
    "            features = features_next\n",
    "        else:\n",
    "            features = np.vstack((features, features_next))\n",
    "        i = i + 1\n",
    "    return features"
   ]
  },
  {
   "cell_type": "code",
   "execution_count": 15,
   "metadata": {},
   "outputs": [
    {
     "data": {
      "text/plain": [
       "array([[[9.98374677e-01, 2.65075778e+00],\n",
       "        [9.98374677e-01, 1.09518600e-01],\n",
       "        [9.97692086e-01, 1.02154000e-03],\n",
       "        [9.97594961e-01, 4.04487720e-01],\n",
       "        [9.96758204e-01, 2.00576040e-01]],\n",
       "\n",
       "       [[1.00000000e+00, 1.10000000e-03],\n",
       "        [1.00317338e+00, 9.41482380e-01],\n",
       "        [1.00346187e+00, 1.85028580e-01],\n",
       "        [1.00394269e+00, 6.90838100e-02],\n",
       "        [1.00413501e+00, 6.05800580e-01]],\n",
       "\n",
       "       [[9.98374677e-01, 2.65075778e+00],\n",
       "        [9.98374677e-01, 1.09518600e-01],\n",
       "        [9.97692086e-01, 1.02154000e-03],\n",
       "        [9.97594961e-01, 4.04487720e-01],\n",
       "        [9.96758204e-01, 2.00576040e-01]],\n",
       "\n",
       "       [[1.00000000e+00, 1.10000000e-03],\n",
       "        [1.00317338e+00, 9.41482380e-01],\n",
       "        [1.00346187e+00, 1.85028580e-01],\n",
       "        [1.00394269e+00, 6.90838100e-02],\n",
       "        [1.00413501e+00, 6.05800580e-01]],\n",
       "\n",
       "       [[9.95216475e-01, 2.65075778e+00],\n",
       "        [9.95216475e-01, 1.09518600e-01],\n",
       "        [9.94536043e-01, 1.02154000e-03],\n",
       "        [9.94439225e-01, 4.04487720e-01],\n",
       "        [9.93605115e-01, 2.00576040e-01]],\n",
       "\n",
       "       [[1.00000000e+00, 9.41482380e-01],\n",
       "        [1.00028758e+00, 1.85028580e-01],\n",
       "        [1.00076687e+00, 6.90838100e-02],\n",
       "        [1.00095859e+00, 6.05800580e-01],\n",
       "        [1.00181173e+00, 1.20928996e+00]]])"
      ]
     },
     "execution_count": 15,
     "metadata": {},
     "output_type": "execute_result"
    }
   ],
   "source": [
    "features = getBidAskFeatures(orderbook.dictBook, state_index, lookback=3, qty=1.0, normalize=True, price=True, size=True, levels = 5)\n",
    "features"
   ]
  },
  {
   "cell_type": "markdown",
   "metadata": {},
   "source": [
    "As we can see, the bids and asks are currently threated separately.\n",
    "As the orderbook comes natural with both sides, which are already ordered such that best-bid and best-ask are in the middle, we can combine the sides and shrink the number of features by half and instead merge the second dimension.\n",
    "Hence the shaps is: `(lookback, 2*levels, count(features))`"
   ]
  },
  {
   "cell_type": "code",
   "execution_count": 16,
   "metadata": {},
   "outputs": [
    {
     "name": "stdout",
     "output_type": "stream",
     "text": [
      "(3, 10, 2)\n"
     ]
    },
    {
     "data": {
      "text/plain": [
       "array([[[9.98374677e-01, 2.65075778e+00],\n",
       "        [9.98374677e-01, 1.09518600e-01],\n",
       "        [9.97692086e-01, 1.02154000e-03],\n",
       "        [9.97594961e-01, 4.04487720e-01],\n",
       "        [9.96758204e-01, 2.00576040e-01],\n",
       "        [1.00000000e+00, 1.10000000e-03],\n",
       "        [1.00317338e+00, 9.41482380e-01],\n",
       "        [1.00346187e+00, 1.85028580e-01],\n",
       "        [1.00394269e+00, 6.90838100e-02],\n",
       "        [1.00413501e+00, 6.05800580e-01]],\n",
       "\n",
       "       [[9.98374677e-01, 2.65075778e+00],\n",
       "        [9.98374677e-01, 1.09518600e-01],\n",
       "        [9.97692086e-01, 1.02154000e-03],\n",
       "        [9.97594961e-01, 4.04487720e-01],\n",
       "        [9.96758204e-01, 2.00576040e-01],\n",
       "        [1.00000000e+00, 1.10000000e-03],\n",
       "        [1.00317338e+00, 9.41482380e-01],\n",
       "        [1.00346187e+00, 1.85028580e-01],\n",
       "        [1.00394269e+00, 6.90838100e-02],\n",
       "        [1.00413501e+00, 6.05800580e-01]],\n",
       "\n",
       "       [[9.95216475e-01, 2.65075778e+00],\n",
       "        [9.95216475e-01, 1.09518600e-01],\n",
       "        [9.94536043e-01, 1.02154000e-03],\n",
       "        [9.94439225e-01, 4.04487720e-01],\n",
       "        [9.93605115e-01, 2.00576040e-01],\n",
       "        [1.00000000e+00, 9.41482380e-01],\n",
       "        [1.00028758e+00, 1.85028580e-01],\n",
       "        [1.00076687e+00, 6.90838100e-02],\n",
       "        [1.00095859e+00, 6.05800580e-01],\n",
       "        [1.00181173e+00, 1.20928996e+00]]])"
      ]
     },
     "execution_count": 16,
     "metadata": {},
     "output_type": "execute_result"
    }
   ],
   "source": [
    "features_combined = features.reshape((int(features.shape[0]/2), features.shape[1]*2, features.shape[2]))\n",
    "print(features_combined.shape)\n",
    "features_combined"
   ]
  },
  {
   "cell_type": "markdown",
   "metadata": {},
   "source": [
    "**Note:** The demonstrated features has been integrated in the Orderbook class and can be used directly:"
   ]
  },
  {
   "cell_type": "code",
   "execution_count": 17,
   "metadata": {},
   "outputs": [
    {
     "data": {
      "text/plain": [
       "array([[[9.98374677e-01, 2.65075778e+00],\n",
       "        [9.98374677e-01, 1.09518600e-01],\n",
       "        [9.97692086e-01, 1.02154000e-03],\n",
       "        [9.97594961e-01, 4.04487720e-01],\n",
       "        [9.96758204e-01, 2.00576040e-01]],\n",
       "\n",
       "       [[1.00000000e+00, 1.10000000e-03],\n",
       "        [1.00317338e+00, 9.41482380e-01],\n",
       "        [1.00346187e+00, 1.85028580e-01],\n",
       "        [1.00394269e+00, 6.90838100e-02],\n",
       "        [1.00413501e+00, 6.05800580e-01]],\n",
       "\n",
       "       [[9.98374677e-01, 2.65075778e+00],\n",
       "        [9.98374677e-01, 1.09518600e-01],\n",
       "        [9.97692086e-01, 1.02154000e-03],\n",
       "        [9.97594961e-01, 4.04487720e-01],\n",
       "        [9.96758204e-01, 2.00576040e-01]],\n",
       "\n",
       "       [[1.00000000e+00, 1.10000000e-03],\n",
       "        [1.00317338e+00, 9.41482380e-01],\n",
       "        [1.00346187e+00, 1.85028580e-01],\n",
       "        [1.00394269e+00, 6.90838100e-02],\n",
       "        [1.00413501e+00, 6.05800580e-01]],\n",
       "\n",
       "       [[9.95216475e-01, 2.65075778e+00],\n",
       "        [9.95216475e-01, 1.09518600e-01],\n",
       "        [9.94536043e-01, 1.02154000e-03],\n",
       "        [9.94439225e-01, 4.04487720e-01],\n",
       "        [9.93605115e-01, 2.00576040e-01]],\n",
       "\n",
       "       [[1.00000000e+00, 9.41482380e-01],\n",
       "        [1.00028758e+00, 1.85028580e-01],\n",
       "        [1.00076687e+00, 6.90838100e-02],\n",
       "        [1.00095859e+00, 6.05800580e-01],\n",
       "        [1.00181173e+00, 1.20928996e+00]]])"
      ]
     },
     "execution_count": 17,
     "metadata": {},
     "output_type": "execute_result"
    }
   ],
   "source": [
    "orderbook.getBidAskFeatures(state_index, lookback=3, qty=1.0, normalize=True, price=True, size=True, levels = 5)"
   ]
  },
  {
   "cell_type": "code",
   "execution_count": null,
   "metadata": {},
   "outputs": [],
   "source": []
  }
 ],
 "metadata": {
  "kernelspec": {
   "display_name": "Python 3",
   "language": "python",
   "name": "python3"
  },
  "language_info": {
   "codemirror_mode": {
    "name": "ipython",
    "version": 3
   },
   "file_extension": ".py",
   "mimetype": "text/x-python",
   "name": "python",
   "nbconvert_exporter": "python",
   "pygments_lexer": "ipython3",
   "version": "3.6.4"
  }
 },
 "nbformat": 4,
 "nbformat_minor": 2
}
